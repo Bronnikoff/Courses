{
 "cells": [
  {
   "cell_type": "code",
   "execution_count": 1,
   "metadata": {},
   "outputs": [],
   "source": [
    "import numpy as np\n",
    "import pandas as pd\n",
    "\n",
    "import matplotlib.pyplot as plt\n",
    "\n",
    "%matplotlib inline"
   ]
  },
  {
   "cell_type": "code",
   "execution_count": 2,
   "metadata": {},
   "outputs": [],
   "source": [
    "from sklearn.decomposition import PCA\n",
    "from scipy.linalg import svd"
   ]
  },
  {
   "cell_type": "code",
   "execution_count": 3,
   "metadata": {},
   "outputs": [
    {
     "data": {
      "text/html": [
       "<div>\n",
       "<style scoped>\n",
       "    .dataframe tbody tr th:only-of-type {\n",
       "        vertical-align: middle;\n",
       "    }\n",
       "\n",
       "    .dataframe tbody tr th {\n",
       "        vertical-align: top;\n",
       "    }\n",
       "\n",
       "    .dataframe thead th {\n",
       "        text-align: right;\n",
       "    }\n",
       "</style>\n",
       "<table border=\"1\" class=\"dataframe\">\n",
       "  <thead>\n",
       "    <tr style=\"text-align: right;\">\n",
       "      <th></th>\n",
       "      <th>fixed acidity</th>\n",
       "      <th>volatile acidity</th>\n",
       "      <th>citric acid</th>\n",
       "      <th>residual sugar</th>\n",
       "      <th>chlorides</th>\n",
       "      <th>free sulfur dioxide</th>\n",
       "      <th>total sulfur dioxide</th>\n",
       "      <th>density</th>\n",
       "      <th>pH</th>\n",
       "      <th>sulphates</th>\n",
       "      <th>alcohol</th>\n",
       "      <th>quality</th>\n",
       "    </tr>\n",
       "  </thead>\n",
       "  <tbody>\n",
       "    <tr>\n",
       "      <th>0</th>\n",
       "      <td>7.4</td>\n",
       "      <td>0.70</td>\n",
       "      <td>0.00</td>\n",
       "      <td>1.9</td>\n",
       "      <td>0.076</td>\n",
       "      <td>11.0</td>\n",
       "      <td>34.0</td>\n",
       "      <td>0.9978</td>\n",
       "      <td>3.51</td>\n",
       "      <td>0.56</td>\n",
       "      <td>9.4</td>\n",
       "      <td>5</td>\n",
       "    </tr>\n",
       "    <tr>\n",
       "      <th>1</th>\n",
       "      <td>7.8</td>\n",
       "      <td>0.88</td>\n",
       "      <td>0.00</td>\n",
       "      <td>2.6</td>\n",
       "      <td>0.098</td>\n",
       "      <td>25.0</td>\n",
       "      <td>67.0</td>\n",
       "      <td>0.9968</td>\n",
       "      <td>3.20</td>\n",
       "      <td>0.68</td>\n",
       "      <td>9.8</td>\n",
       "      <td>5</td>\n",
       "    </tr>\n",
       "    <tr>\n",
       "      <th>2</th>\n",
       "      <td>7.8</td>\n",
       "      <td>0.76</td>\n",
       "      <td>0.04</td>\n",
       "      <td>2.3</td>\n",
       "      <td>0.092</td>\n",
       "      <td>15.0</td>\n",
       "      <td>54.0</td>\n",
       "      <td>0.9970</td>\n",
       "      <td>3.26</td>\n",
       "      <td>0.65</td>\n",
       "      <td>9.8</td>\n",
       "      <td>5</td>\n",
       "    </tr>\n",
       "    <tr>\n",
       "      <th>3</th>\n",
       "      <td>11.2</td>\n",
       "      <td>0.28</td>\n",
       "      <td>0.56</td>\n",
       "      <td>1.9</td>\n",
       "      <td>0.075</td>\n",
       "      <td>17.0</td>\n",
       "      <td>60.0</td>\n",
       "      <td>0.9980</td>\n",
       "      <td>3.16</td>\n",
       "      <td>0.58</td>\n",
       "      <td>9.8</td>\n",
       "      <td>6</td>\n",
       "    </tr>\n",
       "    <tr>\n",
       "      <th>4</th>\n",
       "      <td>7.4</td>\n",
       "      <td>0.70</td>\n",
       "      <td>0.00</td>\n",
       "      <td>1.9</td>\n",
       "      <td>0.076</td>\n",
       "      <td>11.0</td>\n",
       "      <td>34.0</td>\n",
       "      <td>0.9978</td>\n",
       "      <td>3.51</td>\n",
       "      <td>0.56</td>\n",
       "      <td>9.4</td>\n",
       "      <td>5</td>\n",
       "    </tr>\n",
       "  </tbody>\n",
       "</table>\n",
       "</div>"
      ],
      "text/plain": [
       "   fixed acidity  volatile acidity  citric acid  residual sugar  chlorides  \\\n",
       "0            7.4              0.70         0.00             1.9      0.076   \n",
       "1            7.8              0.88         0.00             2.6      0.098   \n",
       "2            7.8              0.76         0.04             2.3      0.092   \n",
       "3           11.2              0.28         0.56             1.9      0.075   \n",
       "4            7.4              0.70         0.00             1.9      0.076   \n",
       "\n",
       "   free sulfur dioxide  total sulfur dioxide  density    pH  sulphates  \\\n",
       "0                 11.0                  34.0   0.9978  3.51       0.56   \n",
       "1                 25.0                  67.0   0.9968  3.20       0.68   \n",
       "2                 15.0                  54.0   0.9970  3.26       0.65   \n",
       "3                 17.0                  60.0   0.9980  3.16       0.58   \n",
       "4                 11.0                  34.0   0.9978  3.51       0.56   \n",
       "\n",
       "   alcohol  quality  \n",
       "0      9.4        5  \n",
       "1      9.8        5  \n",
       "2      9.8        5  \n",
       "3      9.8        6  \n",
       "4      9.4        5  "
      ]
     },
     "execution_count": 3,
     "metadata": {},
     "output_type": "execute_result"
    }
   ],
   "source": [
    "X = pd.read_csv(\"data/winequality-red.csv\", sep=\";\")\n",
    "\n",
    "X.head()"
   ]
  },
  {
   "cell_type": "code",
   "execution_count": 4,
   "metadata": {},
   "outputs": [],
   "source": [
    "y = X.quality\n",
    "X.drop('quality', axis=1, inplace=True)"
   ]
  },
  {
   "cell_type": "code",
   "execution_count": 5,
   "metadata": {},
   "outputs": [],
   "source": [
    "X = (X - X.mean(axis = 0)) / X.std(axis = 0)"
   ]
  },
  {
   "cell_type": "code",
   "execution_count": 6,
   "metadata": {},
   "outputs": [],
   "source": [
    "pca = PCA(n_components=6).fit(X)\n",
    "\n",
    "Z = pca.transform(X)"
   ]
  },
  {
   "cell_type": "code",
   "execution_count": 7,
   "metadata": {},
   "outputs": [
    {
     "data": {
      "text/plain": [
       "array([[ 0.48931422, -0.23858436,  0.46363166,  0.14610715,  0.21224658,\n",
       "        -0.03615752,  0.02357485,  0.39535301, -0.43851962,  0.24292133,\n",
       "        -0.11323206],\n",
       "       [-0.11050274,  0.27493048, -0.15179136,  0.27208024,  0.14805156,\n",
       "         0.51356681,  0.56948696,  0.23357549,  0.00671079, -0.03755392,\n",
       "        -0.38618096],\n",
       "       [-0.12330157, -0.44996253,  0.23824707,  0.10128338, -0.09261383,\n",
       "         0.42879287,  0.3224145 , -0.33887135,  0.05769735,  0.27978615,\n",
       "         0.47167322],\n",
       "       [-0.22961737,  0.07895978, -0.07941826, -0.37279256,  0.66619476,\n",
       "        -0.04353782, -0.03457712, -0.17449976, -0.00378775,  0.55087236,\n",
       "        -0.12218109],\n",
       "       [-0.08261366,  0.21873452, -0.05857268,  0.73214429,  0.2465009 ,\n",
       "        -0.15915198, -0.22246456,  0.15707671,  0.26752977,  0.22596222,\n",
       "         0.35068141],\n",
       "       [ 0.10147858,  0.41144893,  0.06959338,  0.04915555,  0.30433857,\n",
       "        -0.01400021,  0.13630755, -0.3911523 , -0.52211645, -0.38126343,\n",
       "         0.36164504]])"
      ]
     },
     "execution_count": 7,
     "metadata": {},
     "output_type": "execute_result"
    }
   ],
   "source": [
    "pca.components_"
   ]
  },
  {
   "cell_type": "code",
   "execution_count": 8,
   "metadata": {},
   "outputs": [
    {
     "data": {
      "text/plain": [
       "array([3.09913244, 1.92590969, 1.55054349, 1.21323253, 0.95929207,\n",
       "       0.65960826])"
      ]
     },
     "execution_count": 8,
     "metadata": {},
     "output_type": "execute_result"
    }
   ],
   "source": [
    "pca.explained_variance_"
   ]
  },
  {
   "cell_type": "code",
   "execution_count": 9,
   "metadata": {},
   "outputs": [
    {
     "data": {
      "text/plain": [
       "array([0.28173931, 0.1750827 , 0.1409585 , 0.11029387, 0.08720837,\n",
       "       0.05996439])"
      ]
     },
     "execution_count": 9,
     "metadata": {},
     "output_type": "execute_result"
    }
   ],
   "source": [
    "pca.explained_variance_ratio_"
   ]
  },
  {
   "cell_type": "code",
   "execution_count": 10,
   "metadata": {},
   "outputs": [
    {
     "data": {
      "text/plain": [
       "(1599, 6)"
      ]
     },
     "execution_count": 10,
     "metadata": {},
     "output_type": "execute_result"
    }
   ],
   "source": [
    "Z.shape"
   ]
  },
  {
   "cell_type": "code",
   "execution_count": 11,
   "metadata": {},
   "outputs": [
    {
     "data": {
      "text/html": [
       "<div>\n",
       "<style scoped>\n",
       "    .dataframe tbody tr th:only-of-type {\n",
       "        vertical-align: middle;\n",
       "    }\n",
       "\n",
       "    .dataframe tbody tr th {\n",
       "        vertical-align: top;\n",
       "    }\n",
       "\n",
       "    .dataframe thead th {\n",
       "        text-align: right;\n",
       "    }\n",
       "</style>\n",
       "<table border=\"1\" class=\"dataframe\">\n",
       "  <thead>\n",
       "    <tr style=\"text-align: right;\">\n",
       "      <th></th>\n",
       "      <th>0</th>\n",
       "      <th>1</th>\n",
       "      <th>2</th>\n",
       "      <th>3</th>\n",
       "      <th>4</th>\n",
       "      <th>5</th>\n",
       "    </tr>\n",
       "  </thead>\n",
       "  <tbody>\n",
       "    <tr>\n",
       "      <th>0</th>\n",
       "      <td>-1.619023</td>\n",
       "      <td>0.450809</td>\n",
       "      <td>-1.773899</td>\n",
       "      <td>0.043727</td>\n",
       "      <td>0.066994</td>\n",
       "      <td>-0.913635</td>\n",
       "    </tr>\n",
       "    <tr>\n",
       "      <th>1</th>\n",
       "      <td>-0.798920</td>\n",
       "      <td>1.855972</td>\n",
       "      <td>-0.911405</td>\n",
       "      <td>0.547895</td>\n",
       "      <td>-0.018386</td>\n",
       "      <td>0.929423</td>\n",
       "    </tr>\n",
       "    <tr>\n",
       "      <th>2</th>\n",
       "      <td>-0.748245</td>\n",
       "      <td>0.881763</td>\n",
       "      <td>-1.171028</td>\n",
       "      <td>0.410892</td>\n",
       "      <td>-0.043517</td>\n",
       "      <td>0.401348</td>\n",
       "    </tr>\n",
       "    <tr>\n",
       "      <th>3</th>\n",
       "      <td>2.356935</td>\n",
       "      <td>-0.269892</td>\n",
       "      <td>0.243413</td>\n",
       "      <td>-0.928160</td>\n",
       "      <td>-1.498680</td>\n",
       "      <td>-0.130976</td>\n",
       "    </tr>\n",
       "    <tr>\n",
       "      <th>4</th>\n",
       "      <td>-1.619023</td>\n",
       "      <td>0.450809</td>\n",
       "      <td>-1.773899</td>\n",
       "      <td>0.043727</td>\n",
       "      <td>0.066994</td>\n",
       "      <td>-0.913635</td>\n",
       "    </tr>\n",
       "    <tr>\n",
       "      <th>...</th>\n",
       "      <td>...</td>\n",
       "      <td>...</td>\n",
       "      <td>...</td>\n",
       "      <td>...</td>\n",
       "      <td>...</td>\n",
       "      <td>...</td>\n",
       "    </tr>\n",
       "    <tr>\n",
       "      <th>1594</th>\n",
       "      <td>-2.149828</td>\n",
       "      <td>0.814031</td>\n",
       "      <td>0.616870</td>\n",
       "      <td>0.407559</td>\n",
       "      <td>-0.240861</td>\n",
       "      <td>0.054818</td>\n",
       "    </tr>\n",
       "    <tr>\n",
       "      <th>1595</th>\n",
       "      <td>-2.213804</td>\n",
       "      <td>0.892822</td>\n",
       "      <td>1.806837</td>\n",
       "      <td>0.413874</td>\n",
       "      <td>0.119555</td>\n",
       "      <td>-0.674500</td>\n",
       "    </tr>\n",
       "    <tr>\n",
       "      <th>1596</th>\n",
       "      <td>-1.455674</td>\n",
       "      <td>0.311648</td>\n",
       "      <td>1.123888</td>\n",
       "      <td>0.491723</td>\n",
       "      <td>0.193655</td>\n",
       "      <td>-0.506251</td>\n",
       "    </tr>\n",
       "    <tr>\n",
       "      <th>1597</th>\n",
       "      <td>-2.269808</td>\n",
       "      <td>0.979485</td>\n",
       "      <td>0.627768</td>\n",
       "      <td>0.639570</td>\n",
       "      <td>0.067714</td>\n",
       "      <td>-0.860139</td>\n",
       "    </tr>\n",
       "    <tr>\n",
       "      <th>1598</th>\n",
       "      <td>-0.426841</td>\n",
       "      <td>-0.536522</td>\n",
       "      <td>1.628446</td>\n",
       "      <td>-0.391593</td>\n",
       "      <td>0.450341</td>\n",
       "      <td>-0.495998</td>\n",
       "    </tr>\n",
       "  </tbody>\n",
       "</table>\n",
       "<p>1599 rows × 6 columns</p>\n",
       "</div>"
      ],
      "text/plain": [
       "             0         1         2         3         4         5\n",
       "0    -1.619023  0.450809 -1.773899  0.043727  0.066994 -0.913635\n",
       "1    -0.798920  1.855972 -0.911405  0.547895 -0.018386  0.929423\n",
       "2    -0.748245  0.881763 -1.171028  0.410892 -0.043517  0.401348\n",
       "3     2.356935 -0.269892  0.243413 -0.928160 -1.498680 -0.130976\n",
       "4    -1.619023  0.450809 -1.773899  0.043727  0.066994 -0.913635\n",
       "...        ...       ...       ...       ...       ...       ...\n",
       "1594 -2.149828  0.814031  0.616870  0.407559 -0.240861  0.054818\n",
       "1595 -2.213804  0.892822  1.806837  0.413874  0.119555 -0.674500\n",
       "1596 -1.455674  0.311648  1.123888  0.491723  0.193655 -0.506251\n",
       "1597 -2.269808  0.979485  0.627768  0.639570  0.067714 -0.860139\n",
       "1598 -0.426841 -0.536522  1.628446 -0.391593  0.450341 -0.495998\n",
       "\n",
       "[1599 rows x 6 columns]"
      ]
     },
     "execution_count": 11,
     "metadata": {},
     "output_type": "execute_result"
    }
   ],
   "source": [
    "pd.DataFrame(Z)"
   ]
  },
  {
   "cell_type": "code",
   "execution_count": 12,
   "metadata": {},
   "outputs": [],
   "source": [
    "u, s, v = svd(X, full_matrices=False)"
   ]
  },
  {
   "cell_type": "code",
   "execution_count": 13,
   "metadata": {},
   "outputs": [
    {
     "data": {
      "text/html": [
       "<div>\n",
       "<style scoped>\n",
       "    .dataframe tbody tr th:only-of-type {\n",
       "        vertical-align: middle;\n",
       "    }\n",
       "\n",
       "    .dataframe tbody tr th {\n",
       "        vertical-align: top;\n",
       "    }\n",
       "\n",
       "    .dataframe thead th {\n",
       "        text-align: right;\n",
       "    }\n",
       "</style>\n",
       "<table border=\"1\" class=\"dataframe\">\n",
       "  <thead>\n",
       "    <tr style=\"text-align: right;\">\n",
       "      <th></th>\n",
       "      <th>0</th>\n",
       "      <th>1</th>\n",
       "      <th>2</th>\n",
       "      <th>3</th>\n",
       "      <th>4</th>\n",
       "      <th>5</th>\n",
       "    </tr>\n",
       "  </thead>\n",
       "  <tbody>\n",
       "    <tr>\n",
       "      <th>0</th>\n",
       "      <td>-1.619023</td>\n",
       "      <td>0.450809</td>\n",
       "      <td>1.773899</td>\n",
       "      <td>0.043727</td>\n",
       "      <td>-0.066994</td>\n",
       "      <td>0.913635</td>\n",
       "    </tr>\n",
       "    <tr>\n",
       "      <th>1</th>\n",
       "      <td>-0.798920</td>\n",
       "      <td>1.855972</td>\n",
       "      <td>0.911405</td>\n",
       "      <td>0.547895</td>\n",
       "      <td>0.018386</td>\n",
       "      <td>-0.929423</td>\n",
       "    </tr>\n",
       "    <tr>\n",
       "      <th>2</th>\n",
       "      <td>-0.748245</td>\n",
       "      <td>0.881763</td>\n",
       "      <td>1.171028</td>\n",
       "      <td>0.410892</td>\n",
       "      <td>0.043517</td>\n",
       "      <td>-0.401348</td>\n",
       "    </tr>\n",
       "    <tr>\n",
       "      <th>3</th>\n",
       "      <td>2.356935</td>\n",
       "      <td>-0.269892</td>\n",
       "      <td>-0.243413</td>\n",
       "      <td>-0.928160</td>\n",
       "      <td>1.498680</td>\n",
       "      <td>0.130976</td>\n",
       "    </tr>\n",
       "    <tr>\n",
       "      <th>4</th>\n",
       "      <td>-1.619023</td>\n",
       "      <td>0.450809</td>\n",
       "      <td>1.773899</td>\n",
       "      <td>0.043727</td>\n",
       "      <td>-0.066994</td>\n",
       "      <td>0.913635</td>\n",
       "    </tr>\n",
       "    <tr>\n",
       "      <th>...</th>\n",
       "      <td>...</td>\n",
       "      <td>...</td>\n",
       "      <td>...</td>\n",
       "      <td>...</td>\n",
       "      <td>...</td>\n",
       "      <td>...</td>\n",
       "    </tr>\n",
       "    <tr>\n",
       "      <th>1594</th>\n",
       "      <td>-2.149828</td>\n",
       "      <td>0.814031</td>\n",
       "      <td>-0.616870</td>\n",
       "      <td>0.407559</td>\n",
       "      <td>0.240861</td>\n",
       "      <td>-0.054818</td>\n",
       "    </tr>\n",
       "    <tr>\n",
       "      <th>1595</th>\n",
       "      <td>-2.213804</td>\n",
       "      <td>0.892822</td>\n",
       "      <td>-1.806837</td>\n",
       "      <td>0.413874</td>\n",
       "      <td>-0.119555</td>\n",
       "      <td>0.674500</td>\n",
       "    </tr>\n",
       "    <tr>\n",
       "      <th>1596</th>\n",
       "      <td>-1.455674</td>\n",
       "      <td>0.311648</td>\n",
       "      <td>-1.123888</td>\n",
       "      <td>0.491723</td>\n",
       "      <td>-0.193655</td>\n",
       "      <td>0.506251</td>\n",
       "    </tr>\n",
       "    <tr>\n",
       "      <th>1597</th>\n",
       "      <td>-2.269808</td>\n",
       "      <td>0.979485</td>\n",
       "      <td>-0.627768</td>\n",
       "      <td>0.639570</td>\n",
       "      <td>-0.067714</td>\n",
       "      <td>0.860139</td>\n",
       "    </tr>\n",
       "    <tr>\n",
       "      <th>1598</th>\n",
       "      <td>-0.426841</td>\n",
       "      <td>-0.536522</td>\n",
       "      <td>-1.628446</td>\n",
       "      <td>-0.391593</td>\n",
       "      <td>-0.450341</td>\n",
       "      <td>0.495998</td>\n",
       "    </tr>\n",
       "  </tbody>\n",
       "</table>\n",
       "<p>1599 rows × 6 columns</p>\n",
       "</div>"
      ],
      "text/plain": [
       "             0         1         2         3         4         5\n",
       "0    -1.619023  0.450809  1.773899  0.043727 -0.066994  0.913635\n",
       "1    -0.798920  1.855972  0.911405  0.547895  0.018386 -0.929423\n",
       "2    -0.748245  0.881763  1.171028  0.410892  0.043517 -0.401348\n",
       "3     2.356935 -0.269892 -0.243413 -0.928160  1.498680  0.130976\n",
       "4    -1.619023  0.450809  1.773899  0.043727 -0.066994  0.913635\n",
       "...        ...       ...       ...       ...       ...       ...\n",
       "1594 -2.149828  0.814031 -0.616870  0.407559  0.240861 -0.054818\n",
       "1595 -2.213804  0.892822 -1.806837  0.413874 -0.119555  0.674500\n",
       "1596 -1.455674  0.311648 -1.123888  0.491723 -0.193655  0.506251\n",
       "1597 -2.269808  0.979485 -0.627768  0.639570 -0.067714  0.860139\n",
       "1598 -0.426841 -0.536522 -1.628446 -0.391593 -0.450341  0.495998\n",
       "\n",
       "[1599 rows x 6 columns]"
      ]
     },
     "execution_count": 13,
     "metadata": {},
     "output_type": "execute_result"
    }
   ],
   "source": [
    "Z1 = u[:, :6].dot(np.diag(s[:6]))\n",
    "\n",
    "pd.DataFrame(Z1)"
   ]
  },
  {
   "cell_type": "code",
   "execution_count": 14,
   "metadata": {},
   "outputs": [
    {
     "data": {
      "text/html": [
       "<div>\n",
       "<style scoped>\n",
       "    .dataframe tbody tr th:only-of-type {\n",
       "        vertical-align: middle;\n",
       "    }\n",
       "\n",
       "    .dataframe tbody tr th {\n",
       "        vertical-align: top;\n",
       "    }\n",
       "\n",
       "    .dataframe thead th {\n",
       "        text-align: right;\n",
       "    }\n",
       "</style>\n",
       "<table border=\"1\" class=\"dataframe\">\n",
       "  <thead>\n",
       "    <tr style=\"text-align: right;\">\n",
       "      <th></th>\n",
       "      <th>0</th>\n",
       "      <th>1</th>\n",
       "      <th>2</th>\n",
       "      <th>3</th>\n",
       "      <th>4</th>\n",
       "      <th>5</th>\n",
       "    </tr>\n",
       "  </thead>\n",
       "  <tbody>\n",
       "    <tr>\n",
       "      <th>0</th>\n",
       "      <td>-1.619023</td>\n",
       "      <td>0.450809</td>\n",
       "      <td>1.773899</td>\n",
       "      <td>0.043727</td>\n",
       "      <td>-0.066994</td>\n",
       "      <td>0.913635</td>\n",
       "    </tr>\n",
       "    <tr>\n",
       "      <th>1</th>\n",
       "      <td>-0.798920</td>\n",
       "      <td>1.855972</td>\n",
       "      <td>0.911405</td>\n",
       "      <td>0.547895</td>\n",
       "      <td>0.018386</td>\n",
       "      <td>-0.929423</td>\n",
       "    </tr>\n",
       "    <tr>\n",
       "      <th>2</th>\n",
       "      <td>-0.748245</td>\n",
       "      <td>0.881763</td>\n",
       "      <td>1.171028</td>\n",
       "      <td>0.410892</td>\n",
       "      <td>0.043517</td>\n",
       "      <td>-0.401348</td>\n",
       "    </tr>\n",
       "    <tr>\n",
       "      <th>3</th>\n",
       "      <td>2.356935</td>\n",
       "      <td>-0.269892</td>\n",
       "      <td>-0.243413</td>\n",
       "      <td>-0.928160</td>\n",
       "      <td>1.498680</td>\n",
       "      <td>0.130976</td>\n",
       "    </tr>\n",
       "    <tr>\n",
       "      <th>4</th>\n",
       "      <td>-1.619023</td>\n",
       "      <td>0.450809</td>\n",
       "      <td>1.773899</td>\n",
       "      <td>0.043727</td>\n",
       "      <td>-0.066994</td>\n",
       "      <td>0.913635</td>\n",
       "    </tr>\n",
       "    <tr>\n",
       "      <th>...</th>\n",
       "      <td>...</td>\n",
       "      <td>...</td>\n",
       "      <td>...</td>\n",
       "      <td>...</td>\n",
       "      <td>...</td>\n",
       "      <td>...</td>\n",
       "    </tr>\n",
       "    <tr>\n",
       "      <th>1594</th>\n",
       "      <td>-2.149828</td>\n",
       "      <td>0.814031</td>\n",
       "      <td>-0.616870</td>\n",
       "      <td>0.407559</td>\n",
       "      <td>0.240861</td>\n",
       "      <td>-0.054818</td>\n",
       "    </tr>\n",
       "    <tr>\n",
       "      <th>1595</th>\n",
       "      <td>-2.213804</td>\n",
       "      <td>0.892822</td>\n",
       "      <td>-1.806837</td>\n",
       "      <td>0.413874</td>\n",
       "      <td>-0.119555</td>\n",
       "      <td>0.674500</td>\n",
       "    </tr>\n",
       "    <tr>\n",
       "      <th>1596</th>\n",
       "      <td>-1.455674</td>\n",
       "      <td>0.311648</td>\n",
       "      <td>-1.123888</td>\n",
       "      <td>0.491723</td>\n",
       "      <td>-0.193655</td>\n",
       "      <td>0.506251</td>\n",
       "    </tr>\n",
       "    <tr>\n",
       "      <th>1597</th>\n",
       "      <td>-2.269808</td>\n",
       "      <td>0.979485</td>\n",
       "      <td>-0.627768</td>\n",
       "      <td>0.639570</td>\n",
       "      <td>-0.067714</td>\n",
       "      <td>0.860139</td>\n",
       "    </tr>\n",
       "    <tr>\n",
       "      <th>1598</th>\n",
       "      <td>-0.426841</td>\n",
       "      <td>-0.536522</td>\n",
       "      <td>-1.628446</td>\n",
       "      <td>-0.391593</td>\n",
       "      <td>-0.450341</td>\n",
       "      <td>0.495998</td>\n",
       "    </tr>\n",
       "  </tbody>\n",
       "</table>\n",
       "<p>1599 rows × 6 columns</p>\n",
       "</div>"
      ],
      "text/plain": [
       "             0         1         2         3         4         5\n",
       "0    -1.619023  0.450809  1.773899  0.043727 -0.066994  0.913635\n",
       "1    -0.798920  1.855972  0.911405  0.547895  0.018386 -0.929423\n",
       "2    -0.748245  0.881763  1.171028  0.410892  0.043517 -0.401348\n",
       "3     2.356935 -0.269892 -0.243413 -0.928160  1.498680  0.130976\n",
       "4    -1.619023  0.450809  1.773899  0.043727 -0.066994  0.913635\n",
       "...        ...       ...       ...       ...       ...       ...\n",
       "1594 -2.149828  0.814031 -0.616870  0.407559  0.240861 -0.054818\n",
       "1595 -2.213804  0.892822 -1.806837  0.413874 -0.119555  0.674500\n",
       "1596 -1.455674  0.311648 -1.123888  0.491723 -0.193655  0.506251\n",
       "1597 -2.269808  0.979485 -0.627768  0.639570 -0.067714  0.860139\n",
       "1598 -0.426841 -0.536522 -1.628446 -0.391593 -0.450341  0.495998\n",
       "\n",
       "[1599 rows x 6 columns]"
      ]
     },
     "execution_count": 14,
     "metadata": {},
     "output_type": "execute_result"
    }
   ],
   "source": [
    "Z2 = X.dot(v[:6].T)\n",
    "\n",
    "Z2"
   ]
  },
  {
   "cell_type": "code",
   "execution_count": 15,
   "metadata": {},
   "outputs": [
    {
     "data": {
      "text/plain": [
       "[<matplotlib.lines.Line2D at 0x272e838ce80>]"
      ]
     },
     "execution_count": 15,
     "metadata": {},
     "output_type": "execute_result"
    },
    {
     "data": {
      "image/png": "[encoded data removed]",
      "text/plain": [
       "<Figure size 432x288 with 1 Axes>"
      ]
     },
     "metadata": {
      "needs_background": "light"
     },
     "output_type": "display_data"
    }
   ],
   "source": [
    "plt.plot(pca.explained_variance_ratio_)"
   ]
  },
  {
   "cell_type": "code",
   "execution_count": 16,
   "metadata": {},
   "outputs": [
    {
     "data": {
      "text/plain": [
       "0.8552471350764357"
      ]
     },
     "execution_count": 16,
     "metadata": {},
     "output_type": "execute_result"
    }
   ],
   "source": [
    "pca.explained_variance_ratio_.sum()"
   ]
  },
  {
   "cell_type": "code",
   "execution_count": 39,
   "metadata": {},
   "outputs": [],
   "source": [
    "from sklearn.pipeline import Pipeline\n",
    "from sklearn.neighbors import KNeighborsClassifier\n",
    "from sklearn.linear_model import LogisticRegression\n",
    "from sklearn.preprocessing import StandardScaler\n",
    "from sklearn.model_selection import StratifiedKFold, cross_val_score"
   ]
  },
  {
   "cell_type": "code",
   "execution_count": 26,
   "metadata": {},
   "outputs": [],
   "source": [
    "pipline = Pipeline([\n",
    "    ('clf', KNeighborsClassifier())\n",
    "])"
   ]
  },
  {
   "cell_type": "code",
   "execution_count": 27,
   "metadata": {},
   "outputs": [],
   "source": [
    "cv = StratifiedKFold(n_splits=5, shuffle=True, random_state=42)"
   ]
  },
  {
   "cell_type": "code",
   "execution_count": 28,
   "metadata": {},
   "outputs": [
    {
     "data": {
      "text/plain": [
       "array([5, 6, 7, 4, 8, 3], dtype=int64)"
      ]
     },
     "execution_count": 28,
     "metadata": {},
     "output_type": "execute_result"
    }
   ],
   "source": [
    "y.unique()"
   ]
  },
  {
   "cell_type": "code",
   "execution_count": 38,
   "metadata": {},
   "outputs": [
    {
     "data": {
      "text/plain": [
       "0.5615928683385579"
      ]
     },
     "execution_count": 38,
     "metadata": {},
     "output_type": "execute_result"
    }
   ],
   "source": [
    "full = cross_val_score(pipline, X, y, scoring='accuracy', cv=cv).mean()\n",
    "full"
   ]
  },
  {
   "cell_type": "code",
   "execution_count": 32,
   "metadata": {},
   "outputs": [],
   "source": [
    "newline = Pipeline([\n",
    "    ('pca', PCA(n_components=6)),\n",
    "    ('clf', KNeighborsClassifier())\n",
    "])"
   ]
  },
  {
   "cell_type": "code",
   "execution_count": 34,
   "metadata": {},
   "outputs": [
    {
     "data": {
      "text/plain": [
       "[0.4333914576802508,\n",
       " 0.49714537617554855,\n",
       " 0.5597257053291536,\n",
       " 0.5659561128526647,\n",
       " 0.5684717868338558,\n",
       " 0.5566105015673981,\n",
       " 0.5609737460815047,\n",
       " 0.560342868338558,\n",
       " 0.5553409090909092,\n",
       " 0.554717868338558]"
      ]
     },
     "execution_count": 34,
     "metadata": {},
     "output_type": "execute_result"
    }
   ],
   "source": [
    "scores = []\n",
    "\n",
    "for n in range(1, 11):\n",
    "    newline = Pipeline([\n",
    "        ('pca', PCA(n_components=n)),\n",
    "        ('clf', KNeighborsClassifier())\n",
    "    ])\n",
    "    scores.append(\n",
    "        cross_val_score(newline, X, y, scoring='accuracy', cv=cv).mean()\n",
    "    )\n",
    "scores"
   ]
  },
  {
   "cell_type": "code",
   "execution_count": 37,
   "metadata": {},
   "outputs": [
    {
     "data": {
      "text/plain": [
       "[<matplotlib.lines.Line2D at 0x272e9763cd0>]"
      ]
     },
     "execution_count": 37,
     "metadata": {},
     "output_type": "execute_result"
    },
    {
     "data": {
      "image/png": "[encoded data removed]",
      "text/plain": [
       "<Figure size 432x288 with 1 Axes>"
      ]
     },
     "metadata": {
      "needs_background": "light"
     },
     "output_type": "display_data"
    }
   ],
   "source": [
    "plt.plot(scores)\n",
    "plt.plot([1, 11], [full, full])"
   ]
  }
 ],
 "metadata": {
  "kernelspec": {
   "display_name": "Python 3",
   "language": "python",
   "name": "python3"
  },
  "language_info": {
   "codemirror_mode": {
    "name": "ipython",
    "version": 3
   },
   "file_extension": ".py",
   "mimetype": "text/x-python",
   "name": "python",
   "nbconvert_exporter": "python",
   "pygments_lexer": "ipython3",
   "version": "3.8.3"
  }
 },
 "nbformat": 4,
 "nbformat_minor": 4
}
