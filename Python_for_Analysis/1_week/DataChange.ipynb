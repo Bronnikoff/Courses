{
 "cells": [
  {
   "cell_type": "code",
   "execution_count": 1,
   "metadata": {},
   "outputs": [],
   "source": [
    "import pandas as pd"
   ]
  },
  {
   "cell_type": "code",
   "execution_count": 3,
   "metadata": {},
   "outputs": [
    {
     "data": {
      "text/html": [
       "<div>\n",
       "<style scoped>\n",
       "    .dataframe tbody tr th:only-of-type {\n",
       "        vertical-align: middle;\n",
       "    }\n",
       "\n",
       "    .dataframe tbody tr th {\n",
       "        vertical-align: top;\n",
       "    }\n",
       "\n",
       "    .dataframe thead th {\n",
       "        text-align: right;\n",
       "    }\n",
       "</style>\n",
       "<table border=\"1\" class=\"dataframe\">\n",
       "  <thead>\n",
       "    <tr style=\"text-align: right;\">\n",
       "      <th></th>\n",
       "      <th>tripduration</th>\n",
       "      <th>starttime</th>\n",
       "      <th>stoptime</th>\n",
       "      <th>start station id</th>\n",
       "      <th>start station name</th>\n",
       "      <th>start station latitude</th>\n",
       "      <th>start station longitude</th>\n",
       "      <th>end station id</th>\n",
       "      <th>end station name</th>\n",
       "      <th>end station latitude</th>\n",
       "      <th>end station longitude</th>\n",
       "      <th>bikeid</th>\n",
       "      <th>usertype</th>\n",
       "      <th>birth year</th>\n",
       "      <th>gender</th>\n",
       "    </tr>\n",
       "  </thead>\n",
       "  <tbody>\n",
       "    <tr>\n",
       "      <th>0</th>\n",
       "      <td>704</td>\n",
       "      <td>7/1/2016 00:00:02</td>\n",
       "      <td>7/1/2016 00:11:47</td>\n",
       "      <td>459</td>\n",
       "      <td>W 20 St &amp; 11 Ave</td>\n",
       "      <td>40.746745</td>\n",
       "      <td>-74.007756</td>\n",
       "      <td>347</td>\n",
       "      <td>Greenwich St &amp; W Houston St</td>\n",
       "      <td>40.728846</td>\n",
       "      <td>-74.008591</td>\n",
       "      <td>17431</td>\n",
       "      <td>Customer</td>\n",
       "      <td>NaN</td>\n",
       "      <td>0</td>\n",
       "    </tr>\n",
       "    <tr>\n",
       "      <th>1</th>\n",
       "      <td>492</td>\n",
       "      <td>7/1/2016 00:00:18</td>\n",
       "      <td>7/1/2016 00:08:31</td>\n",
       "      <td>293</td>\n",
       "      <td>Lafayette St &amp; E 8 St</td>\n",
       "      <td>40.730287</td>\n",
       "      <td>-73.990765</td>\n",
       "      <td>466</td>\n",
       "      <td>W 25 St &amp; 6 Ave</td>\n",
       "      <td>40.743954</td>\n",
       "      <td>-73.991449</td>\n",
       "      <td>24159</td>\n",
       "      <td>Subscriber</td>\n",
       "      <td>1984.0</td>\n",
       "      <td>1</td>\n",
       "    </tr>\n",
       "    <tr>\n",
       "      <th>2</th>\n",
       "      <td>191</td>\n",
       "      <td>7/1/2016 00:00:19</td>\n",
       "      <td>7/1/2016 00:03:31</td>\n",
       "      <td>3090</td>\n",
       "      <td>N 8 St &amp; Driggs Ave</td>\n",
       "      <td>40.717746</td>\n",
       "      <td>-73.956001</td>\n",
       "      <td>3107</td>\n",
       "      <td>Bedford Ave &amp; Nassau Ave</td>\n",
       "      <td>40.723117</td>\n",
       "      <td>-73.952123</td>\n",
       "      <td>16345</td>\n",
       "      <td>Subscriber</td>\n",
       "      <td>1986.0</td>\n",
       "      <td>2</td>\n",
       "    </tr>\n",
       "    <tr>\n",
       "      <th>3</th>\n",
       "      <td>687</td>\n",
       "      <td>7/1/2016 00:00:24</td>\n",
       "      <td>7/1/2016 00:11:52</td>\n",
       "      <td>459</td>\n",
       "      <td>W 20 St &amp; 11 Ave</td>\n",
       "      <td>40.746745</td>\n",
       "      <td>-74.007756</td>\n",
       "      <td>347</td>\n",
       "      <td>Greenwich St &amp; W Houston St</td>\n",
       "      <td>40.728846</td>\n",
       "      <td>-74.008591</td>\n",
       "      <td>25210</td>\n",
       "      <td>Customer</td>\n",
       "      <td>NaN</td>\n",
       "      <td>0</td>\n",
       "    </tr>\n",
       "    <tr>\n",
       "      <th>4</th>\n",
       "      <td>609</td>\n",
       "      <td>7/1/2016 00:00:31</td>\n",
       "      <td>7/1/2016 00:10:40</td>\n",
       "      <td>284</td>\n",
       "      <td>Greenwich Ave &amp; 8 Ave</td>\n",
       "      <td>40.739017</td>\n",
       "      <td>-74.002638</td>\n",
       "      <td>212</td>\n",
       "      <td>W 16 St &amp; The High Line</td>\n",
       "      <td>40.743349</td>\n",
       "      <td>-74.006818</td>\n",
       "      <td>15514</td>\n",
       "      <td>Customer</td>\n",
       "      <td>NaN</td>\n",
       "      <td>0</td>\n",
       "    </tr>\n",
       "  </tbody>\n",
       "</table>\n",
       "</div>"
      ],
      "text/plain": [
       "   tripduration          starttime           stoptime  start station id  \\\n",
       "0           704  7/1/2016 00:00:02  7/1/2016 00:11:47               459   \n",
       "1           492  7/1/2016 00:00:18  7/1/2016 00:08:31               293   \n",
       "2           191  7/1/2016 00:00:19  7/1/2016 00:03:31              3090   \n",
       "3           687  7/1/2016 00:00:24  7/1/2016 00:11:52               459   \n",
       "4           609  7/1/2016 00:00:31  7/1/2016 00:10:40               284   \n",
       "\n",
       "      start station name  start station latitude  start station longitude  \\\n",
       "0       W 20 St & 11 Ave               40.746745               -74.007756   \n",
       "1  Lafayette St & E 8 St               40.730287               -73.990765   \n",
       "2    N 8 St & Driggs Ave               40.717746               -73.956001   \n",
       "3       W 20 St & 11 Ave               40.746745               -74.007756   \n",
       "4  Greenwich Ave & 8 Ave               40.739017               -74.002638   \n",
       "\n",
       "   end station id             end station name  end station latitude  \\\n",
       "0             347  Greenwich St & W Houston St             40.728846   \n",
       "1             466              W 25 St & 6 Ave             40.743954   \n",
       "2            3107     Bedford Ave & Nassau Ave             40.723117   \n",
       "3             347  Greenwich St & W Houston St             40.728846   \n",
       "4             212      W 16 St & The High Line             40.743349   \n",
       "\n",
       "   end station longitude  bikeid    usertype  birth year  gender  \n",
       "0             -74.008591   17431    Customer         NaN       0  \n",
       "1             -73.991449   24159  Subscriber      1984.0       1  \n",
       "2             -73.952123   16345  Subscriber      1986.0       2  \n",
       "3             -74.008591   25210    Customer         NaN       0  \n",
       "4             -74.006818   15514    Customer         NaN       0  "
      ]
     },
     "execution_count": 3,
     "metadata": {},
     "output_type": "execute_result"
    }
   ],
   "source": [
    "df = pd.read_csv(\"data/citibike.csv\")\n",
    "df.head()"
   ]
  },
  {
   "cell_type": "code",
   "execution_count": 5,
   "metadata": {},
   "outputs": [
    {
     "data": {
      "text/plain": [
       "0     1\n",
       "1     2\n",
       "2     2\n",
       "3     1\n",
       "4     1\n",
       "5     2\n",
       "6     2\n",
       "7     2\n",
       "8     2\n",
       "9     2\n",
       "10    2\n",
       "11    2\n",
       "12    2\n",
       "13    2\n",
       "14    2\n",
       "15    1\n",
       "16    2\n",
       "17    2\n",
       "18    2\n",
       "19    2\n",
       "20    2\n",
       "21    2\n",
       "22    1\n",
       "23    2\n",
       "24    2\n",
       "25    2\n",
       "26    2\n",
       "27    2\n",
       "28    2\n",
       "29    2\n",
       "Name: usertype, dtype: int64"
      ]
     },
     "execution_count": 5,
     "metadata": {},
     "output_type": "execute_result"
    }
   ],
   "source": [
    "df[\"usertype\"].map({\"Customer\":1, \"Subscriber\":2})"
   ]
  },
  {
   "cell_type": "code",
   "execution_count": 6,
   "metadata": {},
   "outputs": [
    {
     "data": {
      "text/plain": [
       "tripduration                 797.466667\n",
       "start station id             529.433333\n",
       "start station latitude        40.731871\n",
       "start station longitude      -73.992881\n",
       "end station id               573.700000\n",
       "end station latitude          40.733723\n",
       "end station longitude        -73.989227\n",
       "bikeid                     20263.033333\n",
       "birth year                  1984.120000\n",
       "gender                         1.066667\n",
       "dtype: float64"
      ]
     },
     "execution_count": 6,
     "metadata": {},
     "output_type": "execute_result"
    }
   ],
   "source": [
    "df.mean()"
   ]
  },
  {
   "cell_type": "code",
   "execution_count": 18,
   "metadata": {},
   "outputs": [
    {
     "data": {
      "text/plain": [
       "0     (15,)\n",
       "1     (15,)\n",
       "2     (15,)\n",
       "3     (15,)\n",
       "4     (15,)\n",
       "5     (15,)\n",
       "6     (15,)\n",
       "7     (15,)\n",
       "8     (15,)\n",
       "9     (15,)\n",
       "10    (15,)\n",
       "11    (15,)\n",
       "12    (15,)\n",
       "13    (15,)\n",
       "14    (15,)\n",
       "15    (15,)\n",
       "16    (15,)\n",
       "17    (15,)\n",
       "18    (15,)\n",
       "19    (15,)\n",
       "20    (15,)\n",
       "21    (15,)\n",
       "22    (15,)\n",
       "23    (15,)\n",
       "24    (15,)\n",
       "25    (15,)\n",
       "26    (15,)\n",
       "27    (15,)\n",
       "28    (15,)\n",
       "29    (15,)\n",
       "dtype: object"
      ]
     },
     "execution_count": 18,
     "metadata": {},
     "output_type": "execute_result"
    }
   ],
   "source": [
    "df.apply(lambda x: x.shape, axis = 1)"
   ]
  },
  {
   "cell_type": "code",
   "execution_count": 15,
   "metadata": {},
   "outputs": [
    {
     "data": {
      "text/plain": [
       "0     11.733333\n",
       "1      8.200000\n",
       "2      3.183333\n",
       "3     11.450000\n",
       "4     10.150000\n",
       "5     11.200000\n",
       "6      7.766667\n",
       "7      9.266667\n",
       "8     12.783333\n",
       "9     24.033333\n",
       "10     7.866667\n",
       "11    12.950000\n",
       "12     5.100000\n",
       "13    22.550000\n",
       "14    19.083333\n",
       "15     8.883333\n",
       "16    26.133333\n",
       "17    36.650000\n",
       "18     7.733333\n",
       "19     6.983333\n",
       "20     8.516667\n",
       "21     6.033333\n",
       "22    37.150000\n",
       "23     5.850000\n",
       "24     5.466667\n",
       "25    10.983333\n",
       "26    20.433333\n",
       "27    28.916667\n",
       "28     3.483333\n",
       "29     8.200000\n",
       "Name: tripduration, dtype: float64"
      ]
     },
     "execution_count": 15,
     "metadata": {},
     "output_type": "execute_result"
    }
   ],
   "source": [
    "df.tripduration.apply(lambda x: x / 60)"
   ]
  },
  {
   "cell_type": "code",
   "execution_count": 16,
   "metadata": {},
   "outputs": [
    {
     "data": {
      "text/plain": [
       "0     11.733333\n",
       "1      8.200000\n",
       "2      3.183333\n",
       "3     11.450000\n",
       "4     10.150000\n",
       "5     11.200000\n",
       "6      7.766667\n",
       "7      9.266667\n",
       "8     12.783333\n",
       "9     24.033333\n",
       "10     7.866667\n",
       "11    12.950000\n",
       "12     5.100000\n",
       "13    22.550000\n",
       "14    19.083333\n",
       "15     8.883333\n",
       "16    26.133333\n",
       "17    36.650000\n",
       "18     7.733333\n",
       "19     6.983333\n",
       "20     8.516667\n",
       "21     6.033333\n",
       "22    37.150000\n",
       "23     5.850000\n",
       "24     5.466667\n",
       "25    10.983333\n",
       "26    20.433333\n",
       "27    28.916667\n",
       "28     3.483333\n",
       "29     8.200000\n",
       "Name: tripduration, dtype: float64"
      ]
     },
     "execution_count": 16,
     "metadata": {},
     "output_type": "execute_result"
    }
   ],
   "source": [
    "df.tripduration / 60"
   ]
  },
  {
   "cell_type": "code",
   "execution_count": 19,
   "metadata": {},
   "outputs": [
    {
     "data": {
      "text/plain": [
       "(30, 15)"
      ]
     },
     "execution_count": 19,
     "metadata": {},
     "output_type": "execute_result"
    }
   ],
   "source": [
    "df.shape"
   ]
  }
 ],
 "metadata": {
  "kernelspec": {
   "display_name": "Python 3",
   "language": "python",
   "name": "python3"
  },
  "language_info": {
   "codemirror_mode": {
    "name": "ipython",
    "version": 3
   },
   "file_extension": ".py",
   "mimetype": "text/x-python",
   "name": "python",
   "nbconvert_exporter": "python",
   "pygments_lexer": "ipython3",
   "version": "3.6.10"
  }
 },
 "nbformat": 4,
 "nbformat_minor": 4
}
