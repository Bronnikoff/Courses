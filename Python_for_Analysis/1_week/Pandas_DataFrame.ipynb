{
 "cells": [
  {
   "cell_type": "code",
   "execution_count": 1,
   "metadata": {},
   "outputs": [],
   "source": [
    "import pandas as pd"
   ]
  },
  {
   "cell_type": "code",
   "execution_count": 2,
   "metadata": {},
   "outputs": [
    {
     "data": {
      "text/html": [
       "<div>\n",
       "<style scoped>\n",
       "    .dataframe tbody tr th:only-of-type {\n",
       "        vertical-align: middle;\n",
       "    }\n",
       "\n",
       "    .dataframe tbody tr th {\n",
       "        vertical-align: top;\n",
       "    }\n",
       "\n",
       "    .dataframe thead th {\n",
       "        text-align: right;\n",
       "    }\n",
       "</style>\n",
       "<table border=\"1\" class=\"dataframe\">\n",
       "  <thead>\n",
       "    <tr style=\"text-align: right;\">\n",
       "      <th></th>\n",
       "      <th>id</th>\n",
       "      <th>event_id</th>\n",
       "      <th>subject</th>\n",
       "      <th>scheduled_time</th>\n",
       "    </tr>\n",
       "  </thead>\n",
       "  <tbody>\n",
       "    <tr>\n",
       "      <th>0</th>\n",
       "      <td>1e7bb408-cfef-4a9f-8328-351c9483a64c</td>\n",
       "      <td>38114</td>\n",
       "      <td>phys</td>\n",
       "      <td>2020-01-19 12:00:00</td>\n",
       "    </tr>\n",
       "    <tr>\n",
       "      <th>1</th>\n",
       "      <td>6d8e59d9-a7c8-4bb3-8ff3-99cd07acdf1a</td>\n",
       "      <td>51568</td>\n",
       "      <td>it</td>\n",
       "      <td>2020-01-19 13:00:00</td>\n",
       "    </tr>\n",
       "    <tr>\n",
       "      <th>2</th>\n",
       "      <td>62e1a078-33de-47c1-99d2-845b1daca56f</td>\n",
       "      <td>52790</td>\n",
       "      <td>hist</td>\n",
       "      <td>2020-01-19 13:00:00</td>\n",
       "    </tr>\n",
       "    <tr>\n",
       "      <th>3</th>\n",
       "      <td>00fc6685-f53a-49bb-b960-5e0042fd3852</td>\n",
       "      <td>51341</td>\n",
       "      <td>phys</td>\n",
       "      <td>2020-01-17 12:00:00</td>\n",
       "    </tr>\n",
       "    <tr>\n",
       "      <th>4</th>\n",
       "      <td>4cadf623-82e6-422f-a342-acf978302fb2</td>\n",
       "      <td>55048</td>\n",
       "      <td>phys</td>\n",
       "      <td>2020-01-19 14:00:00</td>\n",
       "    </tr>\n",
       "  </tbody>\n",
       "</table>\n",
       "</div>"
      ],
      "text/plain": [
       "                                     id  event_id subject       scheduled_time\n",
       "0  1e7bb408-cfef-4a9f-8328-351c9483a64c     38114    phys  2020-01-19 12:00:00\n",
       "1  6d8e59d9-a7c8-4bb3-8ff3-99cd07acdf1a     51568      it  2020-01-19 13:00:00\n",
       "2  62e1a078-33de-47c1-99d2-845b1daca56f     52790    hist  2020-01-19 13:00:00\n",
       "3  00fc6685-f53a-49bb-b960-5e0042fd3852     51341    phys  2020-01-17 12:00:00\n",
       "4  4cadf623-82e6-422f-a342-acf978302fb2     55048    phys  2020-01-19 14:00:00"
      ]
     },
     "execution_count": 2,
     "metadata": {},
     "output_type": "execute_result"
    }
   ],
   "source": [
    "less = pd.read_csv(\"data/lessons.csv\")\n",
    "less.head()"
   ]
  },
  {
   "cell_type": "code",
   "execution_count": 3,
   "metadata": {},
   "outputs": [
    {
     "data": {
      "text/html": [
       "<div>\n",
       "<style scoped>\n",
       "    .dataframe tbody tr th:only-of-type {\n",
       "        vertical-align: middle;\n",
       "    }\n",
       "\n",
       "    .dataframe tbody tr th {\n",
       "        vertical-align: top;\n",
       "    }\n",
       "\n",
       "    .dataframe thead th {\n",
       "        text-align: right;\n",
       "    }\n",
       "</style>\n",
       "<table border=\"1\" class=\"dataframe\">\n",
       "  <thead>\n",
       "    <tr style=\"text-align: right;\">\n",
       "      <th></th>\n",
       "      <th>id</th>\n",
       "      <th>event_id</th>\n",
       "      <th>subject</th>\n",
       "      <th>scheduled_time</th>\n",
       "    </tr>\n",
       "  </thead>\n",
       "  <tbody>\n",
       "    <tr>\n",
       "      <th>373</th>\n",
       "      <td>f579351b-177c-4c1c-850a-58bbda8b0b22</td>\n",
       "      <td>48887</td>\n",
       "      <td>hist</td>\n",
       "      <td>2020-01-15 13:45:00</td>\n",
       "    </tr>\n",
       "    <tr>\n",
       "      <th>374</th>\n",
       "      <td>056c3d91-dce7-4071-91d3-1de816ee63a3</td>\n",
       "      <td>51001</td>\n",
       "      <td>hist</td>\n",
       "      <td>2020-01-17 12:45:00</td>\n",
       "    </tr>\n",
       "    <tr>\n",
       "      <th>375</th>\n",
       "      <td>c64a1daf-d7f5-4c8c-ac9f-df634d77327b</td>\n",
       "      <td>50304</td>\n",
       "      <td>bio</td>\n",
       "      <td>2020-01-11 11:00:00</td>\n",
       "    </tr>\n",
       "    <tr>\n",
       "      <th>376</th>\n",
       "      <td>aa7702bc-5271-469c-a1c2-b7e814fd7e20</td>\n",
       "      <td>49880</td>\n",
       "      <td>bio</td>\n",
       "      <td>2020-01-16 15:00:00</td>\n",
       "    </tr>\n",
       "    <tr>\n",
       "      <th>377</th>\n",
       "      <td>8643fa00-217a-42ae-a27d-e6f47c0501f1</td>\n",
       "      <td>55449</td>\n",
       "      <td>bio</td>\n",
       "      <td>2020-01-19 12:15:00</td>\n",
       "    </tr>\n",
       "  </tbody>\n",
       "</table>\n",
       "</div>"
      ],
      "text/plain": [
       "                                       id  event_id subject  \\\n",
       "373  f579351b-177c-4c1c-850a-58bbda8b0b22     48887    hist   \n",
       "374  056c3d91-dce7-4071-91d3-1de816ee63a3     51001    hist   \n",
       "375  c64a1daf-d7f5-4c8c-ac9f-df634d77327b     50304     bio   \n",
       "376  aa7702bc-5271-469c-a1c2-b7e814fd7e20     49880     bio   \n",
       "377  8643fa00-217a-42ae-a27d-e6f47c0501f1     55449     bio   \n",
       "\n",
       "          scheduled_time  \n",
       "373  2020-01-15 13:45:00  \n",
       "374  2020-01-17 12:45:00  \n",
       "375  2020-01-11 11:00:00  \n",
       "376  2020-01-16 15:00:00  \n",
       "377  2020-01-19 12:15:00  "
      ]
     },
     "execution_count": 3,
     "metadata": {},
     "output_type": "execute_result"
    }
   ],
   "source": [
    "less.tail()"
   ]
  },
  {
   "cell_type": "code",
   "execution_count": 4,
   "metadata": {},
   "outputs": [
    {
     "data": {
      "text/plain": [
       "(378, 4)"
      ]
     },
     "execution_count": 4,
     "metadata": {},
     "output_type": "execute_result"
    }
   ],
   "source": [
    "less.shape"
   ]
  },
  {
   "cell_type": "code",
   "execution_count": 5,
   "metadata": {},
   "outputs": [
    {
     "data": {
      "text/plain": [
       "id                ffea312b-e74e-434e-ba37-fd53f5dbb9e3\n",
       "event_id                                         56271\n",
       "subject                                           phys\n",
       "scheduled_time                     2020-01-20 17:00:00\n",
       "dtype: object"
      ]
     },
     "execution_count": 5,
     "metadata": {},
     "output_type": "execute_result"
    }
   ],
   "source": [
    "less.max()"
   ]
  },
  {
   "cell_type": "code",
   "execution_count": 8,
   "metadata": {},
   "outputs": [
    {
     "data": {
      "text/plain": [
       "id                object\n",
       "event_id           int64\n",
       "subject           object\n",
       "scheduled_time    object\n",
       "dtype: object"
      ]
     },
     "execution_count": 8,
     "metadata": {},
     "output_type": "execute_result"
    }
   ],
   "source": [
    "less.dtypes"
   ]
  },
  {
   "cell_type": "code",
   "execution_count": 14,
   "metadata": {},
   "outputs": [
    {
     "data": {
      "text/html": [
       "<div>\n",
       "<style scoped>\n",
       "    .dataframe tbody tr th:only-of-type {\n",
       "        vertical-align: middle;\n",
       "    }\n",
       "\n",
       "    .dataframe tbody tr th {\n",
       "        vertical-align: top;\n",
       "    }\n",
       "\n",
       "    .dataframe thead th {\n",
       "        text-align: right;\n",
       "    }\n",
       "</style>\n",
       "<table border=\"1\" class=\"dataframe\">\n",
       "  <thead>\n",
       "    <tr style=\"text-align: right;\">\n",
       "      <th></th>\n",
       "      <th>event_id</th>\n",
       "      <th>subject</th>\n",
       "      <th>scheduled_time</th>\n",
       "    </tr>\n",
       "  </thead>\n",
       "  <tbody>\n",
       "    <tr>\n",
       "      <th>1</th>\n",
       "      <td>51568</td>\n",
       "      <td>it</td>\n",
       "      <td>2020-01-19 13:00:00</td>\n",
       "    </tr>\n",
       "    <tr>\n",
       "      <th>2</th>\n",
       "      <td>52790</td>\n",
       "      <td>hist</td>\n",
       "      <td>2020-01-19 13:00:00</td>\n",
       "    </tr>\n",
       "    <tr>\n",
       "      <th>3</th>\n",
       "      <td>51341</td>\n",
       "      <td>phys</td>\n",
       "      <td>2020-01-17 12:00:00</td>\n",
       "    </tr>\n",
       "    <tr>\n",
       "      <th>4</th>\n",
       "      <td>55048</td>\n",
       "      <td>phys</td>\n",
       "      <td>2020-01-19 14:00:00</td>\n",
       "    </tr>\n",
       "  </tbody>\n",
       "</table>\n",
       "</div>"
      ],
      "text/plain": [
       "   event_id subject       scheduled_time\n",
       "1     51568      it  2020-01-19 13:00:00\n",
       "2     52790    hist  2020-01-19 13:00:00\n",
       "3     51341    phys  2020-01-17 12:00:00\n",
       "4     55048    phys  2020-01-19 14:00:00"
      ]
     },
     "execution_count": 14,
     "metadata": {},
     "output_type": "execute_result"
    }
   ],
   "source": [
    "less.loc[1:4, 'event_id':'scheduled_time']"
   ]
  },
  {
   "cell_type": "code",
   "execution_count": 16,
   "metadata": {},
   "outputs": [
    {
     "data": {
      "text/html": [
       "<div>\n",
       "<style scoped>\n",
       "    .dataframe tbody tr th:only-of-type {\n",
       "        vertical-align: middle;\n",
       "    }\n",
       "\n",
       "    .dataframe tbody tr th {\n",
       "        vertical-align: top;\n",
       "    }\n",
       "\n",
       "    .dataframe thead th {\n",
       "        text-align: right;\n",
       "    }\n",
       "</style>\n",
       "<table border=\"1\" class=\"dataframe\">\n",
       "  <thead>\n",
       "    <tr style=\"text-align: right;\">\n",
       "      <th></th>\n",
       "      <th>event_id</th>\n",
       "      <th>subject</th>\n",
       "    </tr>\n",
       "  </thead>\n",
       "  <tbody>\n",
       "    <tr>\n",
       "      <th>1</th>\n",
       "      <td>51568</td>\n",
       "      <td>it</td>\n",
       "    </tr>\n",
       "    <tr>\n",
       "      <th>2</th>\n",
       "      <td>52790</td>\n",
       "      <td>hist</td>\n",
       "    </tr>\n",
       "    <tr>\n",
       "      <th>3</th>\n",
       "      <td>51341</td>\n",
       "      <td>phys</td>\n",
       "    </tr>\n",
       "  </tbody>\n",
       "</table>\n",
       "</div>"
      ],
      "text/plain": [
       "   event_id subject\n",
       "1     51568      it\n",
       "2     52790    hist\n",
       "3     51341    phys"
      ]
     },
     "execution_count": 16,
     "metadata": {},
     "output_type": "execute_result"
    }
   ],
   "source": [
    "less.iloc[1:4, 1:3]"
   ]
  },
  {
   "cell_type": "code",
   "execution_count": 17,
   "metadata": {},
   "outputs": [
    {
     "data": {
      "text/html": [
       "<div>\n",
       "<style scoped>\n",
       "    .dataframe tbody tr th:only-of-type {\n",
       "        vertical-align: middle;\n",
       "    }\n",
       "\n",
       "    .dataframe tbody tr th {\n",
       "        vertical-align: top;\n",
       "    }\n",
       "\n",
       "    .dataframe thead th {\n",
       "        text-align: right;\n",
       "    }\n",
       "</style>\n",
       "<table border=\"1\" class=\"dataframe\">\n",
       "  <thead>\n",
       "    <tr style=\"text-align: right;\">\n",
       "      <th></th>\n",
       "      <th>id</th>\n",
       "      <th>event_id</th>\n",
       "      <th>subject</th>\n",
       "      <th>scheduled_time</th>\n",
       "    </tr>\n",
       "  </thead>\n",
       "  <tbody>\n",
       "    <tr>\n",
       "      <th>1</th>\n",
       "      <td>6d8e59d9-a7c8-4bb3-8ff3-99cd07acdf1a</td>\n",
       "      <td>51568</td>\n",
       "      <td>it</td>\n",
       "      <td>2020-01-19 13:00:00</td>\n",
       "    </tr>\n",
       "    <tr>\n",
       "      <th>2</th>\n",
       "      <td>62e1a078-33de-47c1-99d2-845b1daca56f</td>\n",
       "      <td>52790</td>\n",
       "      <td>hist</td>\n",
       "      <td>2020-01-19 13:00:00</td>\n",
       "    </tr>\n",
       "    <tr>\n",
       "      <th>3</th>\n",
       "      <td>00fc6685-f53a-49bb-b960-5e0042fd3852</td>\n",
       "      <td>51341</td>\n",
       "      <td>phys</td>\n",
       "      <td>2020-01-17 12:00:00</td>\n",
       "    </tr>\n",
       "    <tr>\n",
       "      <th>4</th>\n",
       "      <td>4cadf623-82e6-422f-a342-acf978302fb2</td>\n",
       "      <td>55048</td>\n",
       "      <td>phys</td>\n",
       "      <td>2020-01-19 14:00:00</td>\n",
       "    </tr>\n",
       "    <tr>\n",
       "      <th>5</th>\n",
       "      <td>f3f15fee-ad91-429c-8b1e-faeb42f78f58</td>\n",
       "      <td>50760</td>\n",
       "      <td>it</td>\n",
       "      <td>2020-01-19 15:00:00</td>\n",
       "    </tr>\n",
       "    <tr>\n",
       "      <th>...</th>\n",
       "      <td>...</td>\n",
       "      <td>...</td>\n",
       "      <td>...</td>\n",
       "      <td>...</td>\n",
       "    </tr>\n",
       "    <tr>\n",
       "      <th>368</th>\n",
       "      <td>8a1bac54-c5c6-47c9-8fdb-36d01384eaae</td>\n",
       "      <td>55881</td>\n",
       "      <td>phys</td>\n",
       "      <td>2020-01-19 15:00:00</td>\n",
       "    </tr>\n",
       "    <tr>\n",
       "      <th>372</th>\n",
       "      <td>368373f6-e7ad-4bb5-a5ea-073fda7e890d</td>\n",
       "      <td>54327</td>\n",
       "      <td>hist</td>\n",
       "      <td>2020-01-19 11:00:00</td>\n",
       "    </tr>\n",
       "    <tr>\n",
       "      <th>374</th>\n",
       "      <td>056c3d91-dce7-4071-91d3-1de816ee63a3</td>\n",
       "      <td>51001</td>\n",
       "      <td>hist</td>\n",
       "      <td>2020-01-17 12:45:00</td>\n",
       "    </tr>\n",
       "    <tr>\n",
       "      <th>375</th>\n",
       "      <td>c64a1daf-d7f5-4c8c-ac9f-df634d77327b</td>\n",
       "      <td>50304</td>\n",
       "      <td>bio</td>\n",
       "      <td>2020-01-11 11:00:00</td>\n",
       "    </tr>\n",
       "    <tr>\n",
       "      <th>377</th>\n",
       "      <td>8643fa00-217a-42ae-a27d-e6f47c0501f1</td>\n",
       "      <td>55449</td>\n",
       "      <td>bio</td>\n",
       "      <td>2020-01-19 12:15:00</td>\n",
       "    </tr>\n",
       "  </tbody>\n",
       "</table>\n",
       "<p>281 rows × 4 columns</p>\n",
       "</div>"
      ],
      "text/plain": [
       "                                       id  event_id subject  \\\n",
       "1    6d8e59d9-a7c8-4bb3-8ff3-99cd07acdf1a     51568      it   \n",
       "2    62e1a078-33de-47c1-99d2-845b1daca56f     52790    hist   \n",
       "3    00fc6685-f53a-49bb-b960-5e0042fd3852     51341    phys   \n",
       "4    4cadf623-82e6-422f-a342-acf978302fb2     55048    phys   \n",
       "5    f3f15fee-ad91-429c-8b1e-faeb42f78f58     50760      it   \n",
       "..                                    ...       ...     ...   \n",
       "368  8a1bac54-c5c6-47c9-8fdb-36d01384eaae     55881    phys   \n",
       "372  368373f6-e7ad-4bb5-a5ea-073fda7e890d     54327    hist   \n",
       "374  056c3d91-dce7-4071-91d3-1de816ee63a3     51001    hist   \n",
       "375  c64a1daf-d7f5-4c8c-ac9f-df634d77327b     50304     bio   \n",
       "377  8643fa00-217a-42ae-a27d-e6f47c0501f1     55449     bio   \n",
       "\n",
       "          scheduled_time  \n",
       "1    2020-01-19 13:00:00  \n",
       "2    2020-01-19 13:00:00  \n",
       "3    2020-01-17 12:00:00  \n",
       "4    2020-01-19 14:00:00  \n",
       "5    2020-01-19 15:00:00  \n",
       "..                   ...  \n",
       "368  2020-01-19 15:00:00  \n",
       "372  2020-01-19 11:00:00  \n",
       "374  2020-01-17 12:45:00  \n",
       "375  2020-01-11 11:00:00  \n",
       "377  2020-01-19 12:15:00  \n",
       "\n",
       "[281 rows x 4 columns]"
      ]
     },
     "execution_count": 17,
     "metadata": {},
     "output_type": "execute_result"
    }
   ],
   "source": [
    "less[less['event_id'] > 50000]"
   ]
  },
  {
   "cell_type": "code",
   "execution_count": 18,
   "metadata": {},
   "outputs": [
    {
     "data": {
      "text/plain": [
       "id                ffea312b-e74e-434e-ba37-fd53f5dbb9e3\n",
       "event_id                                         56271\n",
       "subject                                           phys\n",
       "scheduled_time                     2020-01-20 17:00:00\n",
       "dtype: object"
      ]
     },
     "execution_count": 18,
     "metadata": {},
     "output_type": "execute_result"
    }
   ],
   "source": [
    "less.max()"
   ]
  },
  {
   "cell_type": "code",
   "execution_count": 20,
   "metadata": {},
   "outputs": [
    {
     "data": {
      "text/html": [
       "<div>\n",
       "<style scoped>\n",
       "    .dataframe tbody tr th:only-of-type {\n",
       "        vertical-align: middle;\n",
       "    }\n",
       "\n",
       "    .dataframe tbody tr th {\n",
       "        vertical-align: top;\n",
       "    }\n",
       "\n",
       "    .dataframe thead th {\n",
       "        text-align: right;\n",
       "    }\n",
       "</style>\n",
       "<table border=\"1\" class=\"dataframe\">\n",
       "  <thead>\n",
       "    <tr style=\"text-align: right;\">\n",
       "      <th></th>\n",
       "      <th>event_id</th>\n",
       "    </tr>\n",
       "  </thead>\n",
       "  <tbody>\n",
       "    <tr>\n",
       "      <th>count</th>\n",
       "      <td>378.000000</td>\n",
       "    </tr>\n",
       "    <tr>\n",
       "      <th>mean</th>\n",
       "      <td>51214.843915</td>\n",
       "    </tr>\n",
       "    <tr>\n",
       "      <th>std</th>\n",
       "      <td>4866.126385</td>\n",
       "    </tr>\n",
       "    <tr>\n",
       "      <th>min</th>\n",
       "      <td>9170.000000</td>\n",
       "    </tr>\n",
       "    <tr>\n",
       "      <th>25%</th>\n",
       "      <td>49973.750000</td>\n",
       "    </tr>\n",
       "    <tr>\n",
       "      <th>50%</th>\n",
       "      <td>52433.500000</td>\n",
       "    </tr>\n",
       "    <tr>\n",
       "      <th>75%</th>\n",
       "      <td>54057.000000</td>\n",
       "    </tr>\n",
       "    <tr>\n",
       "      <th>max</th>\n",
       "      <td>56271.000000</td>\n",
       "    </tr>\n",
       "  </tbody>\n",
       "</table>\n",
       "</div>"
      ],
      "text/plain": [
       "           event_id\n",
       "count    378.000000\n",
       "mean   51214.843915\n",
       "std     4866.126385\n",
       "min     9170.000000\n",
       "25%    49973.750000\n",
       "50%    52433.500000\n",
       "75%    54057.000000\n",
       "max    56271.000000"
      ]
     },
     "execution_count": 20,
     "metadata": {},
     "output_type": "execute_result"
    }
   ],
   "source": [
    "less.describe()"
   ]
  },
  {
   "cell_type": "code",
   "execution_count": 22,
   "metadata": {},
   "outputs": [
    {
     "data": {
      "text/plain": [
       "phys    184\n",
       "bio      78\n",
       "hist     60\n",
       "it       56\n",
       "Name: subject, dtype: int64"
      ]
     },
     "execution_count": 22,
     "metadata": {},
     "output_type": "execute_result"
    }
   ],
   "source": [
    "less['subject'].value_counts()"
   ]
  },
  {
   "cell_type": "code",
   "execution_count": 23,
   "metadata": {},
   "outputs": [
    {
     "data": {
      "text/plain": [
       "array(['phys', 'it', 'hist', 'bio'], dtype=object)"
      ]
     },
     "execution_count": 23,
     "metadata": {},
     "output_type": "execute_result"
    }
   ],
   "source": [
    "less['subject'].unique()"
   ]
  },
  {
   "cell_type": "code",
   "execution_count": 24,
   "metadata": {},
   "outputs": [
    {
     "data": {
      "text/html": [
       "<div>\n",
       "<style scoped>\n",
       "    .dataframe tbody tr th:only-of-type {\n",
       "        vertical-align: middle;\n",
       "    }\n",
       "\n",
       "    .dataframe tbody tr th {\n",
       "        vertical-align: top;\n",
       "    }\n",
       "\n",
       "    .dataframe thead th {\n",
       "        text-align: right;\n",
       "    }\n",
       "</style>\n",
       "<table border=\"1\" class=\"dataframe\">\n",
       "  <thead>\n",
       "    <tr style=\"text-align: right;\">\n",
       "      <th></th>\n",
       "      <th>event_id</th>\n",
       "    </tr>\n",
       "  </thead>\n",
       "  <tbody>\n",
       "    <tr>\n",
       "      <th>event_id</th>\n",
       "      <td>1.0</td>\n",
       "    </tr>\n",
       "  </tbody>\n",
       "</table>\n",
       "</div>"
      ],
      "text/plain": [
       "          event_id\n",
       "event_id       1.0"
      ]
     },
     "execution_count": 24,
     "metadata": {},
     "output_type": "execute_result"
    }
   ],
   "source": [
    "less.corr()"
   ]
  },
  {
   "cell_type": "code",
   "execution_count": 26,
   "metadata": {},
   "outputs": [
    {
     "data": {
      "text/html": [
       "<div>\n",
       "<style scoped>\n",
       "    .dataframe tbody tr th:only-of-type {\n",
       "        vertical-align: middle;\n",
       "    }\n",
       "\n",
       "    .dataframe tbody tr th {\n",
       "        vertical-align: top;\n",
       "    }\n",
       "\n",
       "    .dataframe thead th {\n",
       "        text-align: right;\n",
       "    }\n",
       "</style>\n",
       "<table border=\"1\" class=\"dataframe\">\n",
       "  <thead>\n",
       "    <tr style=\"text-align: right;\">\n",
       "      <th></th>\n",
       "      <th>id</th>\n",
       "      <th>event_id</th>\n",
       "      <th>subject</th>\n",
       "      <th>scheduled_time</th>\n",
       "    </tr>\n",
       "  </thead>\n",
       "  <tbody>\n",
       "    <tr>\n",
       "      <th>262</th>\n",
       "      <td>11c361e7-4568-4ae2-8c00-5795658d5d9b</td>\n",
       "      <td>49926</td>\n",
       "      <td>bio</td>\n",
       "      <td>2020-01-16 14:00:00</td>\n",
       "    </tr>\n",
       "    <tr>\n",
       "      <th>254</th>\n",
       "      <td>8a75c548-d37a-407b-8234-4b25714bc316</td>\n",
       "      <td>54068</td>\n",
       "      <td>phys</td>\n",
       "      <td>2020-01-16 15:00:00</td>\n",
       "    </tr>\n",
       "    <tr>\n",
       "      <th>140</th>\n",
       "      <td>deb32d69-cebb-4021-baf4-17607fc2a085</td>\n",
       "      <td>49238</td>\n",
       "      <td>it</td>\n",
       "      <td>2020-01-13 17:00:00</td>\n",
       "    </tr>\n",
       "    <tr>\n",
       "      <th>294</th>\n",
       "      <td>fe5e055f-6615-488f-88a7-8bcc1a9cf8aa</td>\n",
       "      <td>48015</td>\n",
       "      <td>phys</td>\n",
       "      <td>2020-01-17 14:00:00</td>\n",
       "    </tr>\n",
       "    <tr>\n",
       "      <th>34</th>\n",
       "      <td>cb4da1e0-ba8f-443b-bd57-83f18d9e1e5b</td>\n",
       "      <td>53047</td>\n",
       "      <td>hist</td>\n",
       "      <td>2020-01-12 12:00:00</td>\n",
       "    </tr>\n",
       "    <tr>\n",
       "      <th>...</th>\n",
       "      <td>...</td>\n",
       "      <td>...</td>\n",
       "      <td>...</td>\n",
       "      <td>...</td>\n",
       "    </tr>\n",
       "    <tr>\n",
       "      <th>357</th>\n",
       "      <td>694bce79-3f66-4d1a-a6c5-e8bdaddc869e</td>\n",
       "      <td>55809</td>\n",
       "      <td>it</td>\n",
       "      <td>2020-01-19 11:00:00</td>\n",
       "    </tr>\n",
       "    <tr>\n",
       "      <th>185</th>\n",
       "      <td>ba984b93-8a53-4fae-a23e-87f1d7ebce9d</td>\n",
       "      <td>48934</td>\n",
       "      <td>bio</td>\n",
       "      <td>2020-01-14 12:00:00</td>\n",
       "    </tr>\n",
       "    <tr>\n",
       "      <th>356</th>\n",
       "      <td>e0c4c3dd-05c8-480a-afb7-1dcf1109bc71</td>\n",
       "      <td>55001</td>\n",
       "      <td>it</td>\n",
       "      <td>2020-01-19 06:00:00</td>\n",
       "    </tr>\n",
       "    <tr>\n",
       "      <th>222</th>\n",
       "      <td>b3c57bb5-af71-4c58-b6fa-2470102131b4</td>\n",
       "      <td>54521</td>\n",
       "      <td>phys</td>\n",
       "      <td>2020-01-16 12:00:00</td>\n",
       "    </tr>\n",
       "    <tr>\n",
       "      <th>355</th>\n",
       "      <td>ebdb51c5-3980-4364-8e9f-9a8d4d26f999</td>\n",
       "      <td>54265</td>\n",
       "      <td>phys</td>\n",
       "      <td>2020-01-18 17:00:00</td>\n",
       "    </tr>\n",
       "  </tbody>\n",
       "</table>\n",
       "<p>76 rows × 4 columns</p>\n",
       "</div>"
      ],
      "text/plain": [
       "                                       id  event_id subject  \\\n",
       "262  11c361e7-4568-4ae2-8c00-5795658d5d9b     49926     bio   \n",
       "254  8a75c548-d37a-407b-8234-4b25714bc316     54068    phys   \n",
       "140  deb32d69-cebb-4021-baf4-17607fc2a085     49238      it   \n",
       "294  fe5e055f-6615-488f-88a7-8bcc1a9cf8aa     48015    phys   \n",
       "34   cb4da1e0-ba8f-443b-bd57-83f18d9e1e5b     53047    hist   \n",
       "..                                    ...       ...     ...   \n",
       "357  694bce79-3f66-4d1a-a6c5-e8bdaddc869e     55809      it   \n",
       "185  ba984b93-8a53-4fae-a23e-87f1d7ebce9d     48934     bio   \n",
       "356  e0c4c3dd-05c8-480a-afb7-1dcf1109bc71     55001      it   \n",
       "222  b3c57bb5-af71-4c58-b6fa-2470102131b4     54521    phys   \n",
       "355  ebdb51c5-3980-4364-8e9f-9a8d4d26f999     54265    phys   \n",
       "\n",
       "          scheduled_time  \n",
       "262  2020-01-16 14:00:00  \n",
       "254  2020-01-16 15:00:00  \n",
       "140  2020-01-13 17:00:00  \n",
       "294  2020-01-17 14:00:00  \n",
       "34   2020-01-12 12:00:00  \n",
       "..                   ...  \n",
       "357  2020-01-19 11:00:00  \n",
       "185  2020-01-14 12:00:00  \n",
       "356  2020-01-19 06:00:00  \n",
       "222  2020-01-16 12:00:00  \n",
       "355  2020-01-18 17:00:00  \n",
       "\n",
       "[76 rows x 4 columns]"
      ]
     },
     "execution_count": 26,
     "metadata": {},
     "output_type": "execute_result"
    }
   ],
   "source": [
    "less.sample(frac = 0.2)"
   ]
  },
  {
   "cell_type": "code",
   "execution_count": 27,
   "metadata": {},
   "outputs": [],
   "source": [
    "less.to_csv(\"data/lessons.csv\")"
   ]
  },
  {
   "cell_type": "code",
   "execution_count": 28,
   "metadata": {},
   "outputs": [
    {
     "data": {
      "text/html": [
       "<div>\n",
       "<style scoped>\n",
       "    .dataframe tbody tr th:only-of-type {\n",
       "        vertical-align: middle;\n",
       "    }\n",
       "\n",
       "    .dataframe tbody tr th {\n",
       "        vertical-align: top;\n",
       "    }\n",
       "\n",
       "    .dataframe thead th {\n",
       "        text-align: right;\n",
       "    }\n",
       "</style>\n",
       "<table border=\"1\" class=\"dataframe\">\n",
       "  <thead>\n",
       "    <tr style=\"text-align: right;\">\n",
       "      <th></th>\n",
       "      <th>event_id</th>\n",
       "    </tr>\n",
       "    <tr>\n",
       "      <th>subject</th>\n",
       "      <th></th>\n",
       "    </tr>\n",
       "  </thead>\n",
       "  <tbody>\n",
       "    <tr>\n",
       "      <th>bio</th>\n",
       "      <td>51362.641026</td>\n",
       "    </tr>\n",
       "    <tr>\n",
       "      <th>hist</th>\n",
       "      <td>53176.350000</td>\n",
       "    </tr>\n",
       "    <tr>\n",
       "      <th>it</th>\n",
       "      <td>51596.232143</td>\n",
       "    </tr>\n",
       "    <tr>\n",
       "      <th>phys</th>\n",
       "      <td>50396.494565</td>\n",
       "    </tr>\n",
       "  </tbody>\n",
       "</table>\n",
       "</div>"
      ],
      "text/plain": [
       "             event_id\n",
       "subject              \n",
       "bio      51362.641026\n",
       "hist     53176.350000\n",
       "it       51596.232143\n",
       "phys     50396.494565"
      ]
     },
     "execution_count": 28,
     "metadata": {},
     "output_type": "execute_result"
    }
   ],
   "source": [
    "less.groupby(\"subject\").mean()"
   ]
  }
 ],
 "metadata": {
  "kernelspec": {
   "display_name": "Python 3",
   "language": "python",
   "name": "python3"
  },
  "language_info": {
   "codemirror_mode": {
    "name": "ipython",
    "version": 3
   },
   "file_extension": ".py",
   "mimetype": "text/x-python",
   "name": "python",
   "nbconvert_exporter": "python",
   "pygments_lexer": "ipython3",
   "version": "3.6.10"
  }
 },
 "nbformat": 4,
 "nbformat_minor": 4
}
