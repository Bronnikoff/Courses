{
  "nbformat": 4,
  "nbformat_minor": 0,
  "metadata": {
    "colab": {
      "name": "Intro_to_tensorflow.ipynb",
      "provenance": []
    },
    "kernelspec": {
      "name": "python3",
      "display_name": "Python 3"
    }
  },
  "cells": [
    {
      "cell_type": "code",
      "metadata": {
        "id": "pNJBmv-cQDC6",
        "colab_type": "code",
        "colab": {}
      },
      "source": [
        "import tensorflow as tf\n",
        "import numpy as np"
      ],
      "execution_count": null,
      "outputs": []
    },
    {
      "cell_type": "code",
      "metadata": {
        "id": "9qT4tKNIVfUV",
        "colab_type": "code",
        "colab": {}
      },
      "source": [
        "tf.compat.v1.disable_eager_execution()"
      ],
      "execution_count": 16,
      "outputs": []
    },
    {
      "cell_type": "code",
      "metadata": {
        "id": "eYliRht3QMRw",
        "colab_type": "code",
        "colab": {}
      },
      "source": [
        "hello = tf.constant(\"Hello world\")"
      ],
      "execution_count": 2,
      "outputs": []
    },
    {
      "cell_type": "code",
      "metadata": {
        "id": "ZWwUcQshQQlC",
        "colab_type": "code",
        "colab": {
          "base_uri": "https://localhost:8080/",
          "height": 34
        },
        "outputId": "7b481f63-efde-4f70-c1e0-c88454d8afc4"
      },
      "source": [
        "hello"
      ],
      "execution_count": 3,
      "outputs": [
        {
          "output_type": "execute_result",
          "data": {
            "text/plain": [
              "<tf.Tensor: shape=(), dtype=string, numpy=b'Hello world'>"
            ]
          },
          "metadata": {
            "tags": []
          },
          "execution_count": 3
        }
      ]
    },
    {
      "cell_type": "code",
      "metadata": {
        "id": "OEevCcoKSKXN",
        "colab_type": "code",
        "colab": {
          "base_uri": "https://localhost:8080/",
          "height": 34
        },
        "outputId": "4fb00968-5982-40c4-a99e-3cd4261d3c71"
      },
      "source": [
        "with tf.compat.v1.Session() as sess:\n",
        "  a = tf.constant([1, 4, 5, 2])\n",
        "  b = tf.constant([0, 1, 2, 3])\n",
        "\n",
        "  print(sess.run(a + b))"
      ],
      "execution_count": 6,
      "outputs": [
        {
          "output_type": "stream",
          "text": [
            "[1 5 7 5]\n"
          ],
          "name": "stdout"
        }
      ]
    },
    {
      "cell_type": "code",
      "metadata": {
        "id": "V-1M_z5xUxUD",
        "colab_type": "code",
        "colab": {}
      },
      "source": [
        "a = tf.compat.v1.placeholder(tf.int16)\n",
        "b = tf.compat.v1.placeholder(tf.int16)"
      ],
      "execution_count": 20,
      "outputs": []
    },
    {
      "cell_type": "code",
      "metadata": {
        "id": "ipmaMZu_VqFG",
        "colab_type": "code",
        "colab": {}
      },
      "source": [
        "add = tf.compat.v1.add(a, b)"
      ],
      "execution_count": 21,
      "outputs": []
    },
    {
      "cell_type": "code",
      "metadata": {
        "id": "KkfY3b7SVhi3",
        "colab_type": "code",
        "colab": {
          "base_uri": "https://localhost:8080/",
          "height": 34
        },
        "outputId": "c951d211-e813-4a5e-a96a-af4c78f81390"
      },
      "source": [
        "with tf.compat.v1.Session() as sess:\n",
        "  tf.compat.v1.summary.FileWriter('logs', sess.graph)\n",
        "  print(sess.run(add, feed_dict={a:4, b:5}))"
      ],
      "execution_count": 25,
      "outputs": [
        {
          "output_type": "stream",
          "text": [
            "9\n"
          ],
          "name": "stdout"
        }
      ]
    },
    {
      "cell_type": "code",
      "metadata": {
        "id": "hUfaSKMSWGXa",
        "colab_type": "code",
        "colab": {
          "base_uri": "https://localhost:8080/",
          "height": 85
        },
        "outputId": "16880e5f-0fb7-4b7f-fb2a-f642d8e5cb9c"
      },
      "source": [
        "! tensorboard --logdir logs"
      ],
      "execution_count": 26,
      "outputs": [
        {
          "output_type": "stream",
          "text": [
            "2020-09-12 17:24:30.700309: I tensorflow/stream_executor/platform/default/dso_loader.cc:48] Successfully opened dynamic library libcudart.so.10.1\n",
            "Serving TensorBoard on localhost; to expose to the network, use a proxy or pass --bind_all\n",
            "TensorBoard 2.3.0 at http://localhost:6006/ (Press CTRL+C to quit)\n",
            "^C\n"
          ],
          "name": "stdout"
        }
      ]
    },
    {
      "cell_type": "code",
      "metadata": {
        "id": "_rBzbcthWUPf",
        "colab_type": "code",
        "colab": {}
      },
      "source": [
        "import matplotlib.pyplot as plt\n",
        "import numpy as np\n",
        "\n",
        "from sklearn.datasets import make_regression"
      ],
      "execution_count": 27,
      "outputs": []
    },
    {
      "cell_type": "code",
      "metadata": {
        "id": "pz7sZT0CWvhd",
        "colab_type": "code",
        "colab": {}
      },
      "source": [
        "n_samples = 42\n",
        "X_train, y_train = make_regression(n_samples=n_samples, n_features=1, noise=15)\n",
        "X_train = (X_train - X_train.mean()) / X_train.std()\n",
        "y_train = (y_train - y_train.mean()) / y_train.std()"
      ],
      "execution_count": 28,
      "outputs": []
    },
    {
      "cell_type": "code",
      "metadata": {
        "id": "aCI1wQvRXV9O",
        "colab_type": "code",
        "colab": {}
      },
      "source": [
        "X = tf.compat.v1.placeholder('float')\n",
        "y = tf.compat.v1.placeholder('float')"
      ],
      "execution_count": 32,
      "outputs": []
    },
    {
      "cell_type": "code",
      "metadata": {
        "id": "FFffYu5XXnSa",
        "colab_type": "code",
        "colab": {}
      },
      "source": [
        "w = tf.Variable(np.random.random(), name=\"weight\")\n",
        "b = tf.Variable(np.random.random(), name=\"bias\")"
      ],
      "execution_count": 33,
      "outputs": []
    },
    {
      "cell_type": "code",
      "metadata": {
        "id": "PaASGRcMYniS",
        "colab_type": "code",
        "colab": {}
      },
      "source": [
        "prediction = tf.add(tf.multiply(X, w), b)"
      ],
      "execution_count": 34,
      "outputs": []
    },
    {
      "cell_type": "code",
      "metadata": {
        "id": "zBNe6BjXYuXs",
        "colab_type": "code",
        "colab": {}
      },
      "source": [
        "learning_rate = tf.compat.v1.placeholder(tf.float32, shape=[])\n",
        "\n",
        "cost = tf.reduce_sum(tf.pow(prediction-y, 2)) / n_samples\n",
        "optimizer = tf.compat.v1.train.GradientDescentOptimizer(learning_rate).minimize(cost)"
      ],
      "execution_count": 38,
      "outputs": []
    },
    {
      "cell_type": "code",
      "metadata": {
        "id": "69MsRMXUequv",
        "colab_type": "code",
        "colab": {}
      },
      "source": [
        "init = tf.compat.v1.global_variables_initializer()"
      ],
      "execution_count": 40,
      "outputs": []
    },
    {
      "cell_type": "code",
      "metadata": {
        "id": "e3cgB7ktdwdP",
        "colab_type": "code",
        "colab": {
          "base_uri": "https://localhost:8080/",
          "height": 187
        },
        "outputId": "8c25b757-6289-475d-ced8-49bdbfb7646b"
      },
      "source": [
        "epochs = 1000\n",
        "sess = tf.compat.v1.Session()\n",
        "\n",
        "sess.run(init)\n",
        "lr = 0.1\n",
        "for epoch in range(epochs):\n",
        "  for x_batch, y_batch in zip(X_train, y_train):\n",
        "    sess.run(optimizer, feed_dict={X:x_batch, y:y_batch, learning_rate:lr})\n",
        "\n",
        "  if epoch % 100 == 0:\n",
        "    lr /= 2\n",
        "    e = sess.run(cost, feed_dict={X:X_train, y:y_train})\n",
        "    print('Epoch #' + str(epoch) + \": cost =\", e)"
      ],
      "execution_count": 54,
      "outputs": [
        {
          "output_type": "stream",
          "text": [
            "Epoch #0: cost = 72.66717\n",
            "Epoch #100: cost = 81.12136\n",
            "Epoch #200: cost = 81.14489\n",
            "Epoch #300: cost = 81.15549\n",
            "Epoch #400: cost = 81.15982\n",
            "Epoch #500: cost = 81.162674\n",
            "Epoch #600: cost = 81.16368\n",
            "Epoch #700: cost = 81.16523\n",
            "Epoch #800: cost = 81.16474\n",
            "Epoch #900: cost = 81.16329\n"
          ],
          "name": "stdout"
        }
      ]
    },
    {
      "cell_type": "code",
      "metadata": {
        "id": "N49OMJRPfbFj",
        "colab_type": "code",
        "colab": {
          "base_uri": "https://localhost:8080/",
          "height": 265
        },
        "outputId": "79f4f376-bb15-4d3d-cb43-1d733e182de2"
      },
      "source": [
        "plt.plot(X_train, y_train, 'ro', label=\"Origin\")\n",
        "plt.plot(X_train, sess.run(w) * X_train + sess.run(b), label=\"fitted line\")\n",
        "plt.legend()\n",
        "plt.show()"
      ],
      "execution_count": 55,
      "outputs": [
        {
          "output_type": "display_data",
          "data": {
            "image/png": "[encoded data removed]",
            "text/plain": [
              "<Figure size 432x288 with 1 Axes>"
            ]
          },
          "metadata": {
            "tags": [],
            "needs_background": "light"
          }
        }
      ]
    },
    {
      "cell_type": "code",
      "metadata": {
        "id": "8ZhFAKC7gE7g",
        "colab_type": "code",
        "colab": {
          "base_uri": "https://localhost:8080/",
          "height": 34
        },
        "outputId": "73d6984e-1015-40c5-f316-3ca278a18a04"
      },
      "source": [
        "X_train[0]"
      ],
      "execution_count": 57,
      "outputs": [
        {
          "output_type": "execute_result",
          "data": {
            "text/plain": [
              "array([0.4127751])"
            ]
          },
          "metadata": {
            "tags": []
          },
          "execution_count": 57
        }
      ]
    },
    {
      "cell_type": "code",
      "metadata": {
        "id": "tjGWzKyXf84f",
        "colab_type": "code",
        "colab": {}
      },
      "source": [
        "sess.close()"
      ],
      "execution_count": 58,
      "outputs": []
    }
  ]
}